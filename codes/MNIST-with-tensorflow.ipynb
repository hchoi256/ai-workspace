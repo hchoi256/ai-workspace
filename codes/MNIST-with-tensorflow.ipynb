{
 "cells": [
  {
   "cell_type": "code",
   "execution_count": 32,
   "metadata": {},
   "outputs": [],
   "source": [
    "# Loading the dataset\n",
    "import tensorflow as tf\n",
    "\n",
    "((X_train, y_train), (X_test, y_test)) = tf.keras.datasets.mnist.load_data()\n",
    "\n",
    "X_train, X_test = X_train / 255.0, X_test / 255.0 # normalization\n",
    "\n",
    "# reshape for image generator\n",
    "X_train = X_train.reshape(60000, 28, 28, 1)\n",
    "X_test = X_test.reshape(10000, 28, 28, 1)\n",
    "\n",
    "print(X_test)\n",
    "\n",
    "# print(X_train.shape, X_test.shape)\n",
    "# print(y_train.shape, y_test.shape)"
   ]
  },
  {
   "cell_type": "code",
   "execution_count": null,
   "metadata": {},
   "outputs": [],
   "source": [
    "# Visualizing the dataset\n",
    "import matplotlib.pyplot as plt\n",
    "\n",
    "figure = plt.figure()\n",
    "figure.set_size_inches(15, 5)\n",
    "\n",
    "axes = []\n",
    "for i in range(1,6):\n",
    "    axes.append(figure.add_subplot(1, 5, i))\n",
    "\n",
    "for i in range(5):\n",
    "    axes[i].matshow(x_train[i])"
   ]
  },
  {
   "cell_type": "code",
   "execution_count": null,
   "metadata": {},
   "outputs": [],
   "source": [
    "# Building the model\n",
    "from keras.models import Sequential \n",
    "from keras.layers import Conv2D, MaxPooling2D, AveragePooling2D, Dense, Flatten, Dropout, Activation, BatchNormalization\n",
    "from keras.optimizers import Adam\n",
    "\n",
    "cnn_model = Sequential()\n",
    "\n",
    "cnn_model.add(Conv2D(10, 3, strides = 1, padding = 'same', activation = 'relu', input_shape = (28, 28, 1)))\n",
    "cnn_model.add(MaxPooling2D((2, 2)))\n",
    "\n",
    "cnn_model.add(Conv2D(10, 3, strides = 1, padding = 'same', activation = 'relu'))\n",
    "cnn_model.add(MaxPooling2D((2, 2)))\n",
    "\n",
    "cnn_model.add(Flatten())\n",
    "\n",
    "for i in range(3): # 3 hidden layers \n",
    "    cnn_model.add(Dense(100))\n",
    "    cnn_model.add(BatchNormalization())\n",
    "    cnn_model.add(Activation(activation = 'relu'))\n",
    "\n",
    "cnn_model.add(Dropout(0.2))\n",
    "cnn_model.add(Dense(10, activation = 'softmax')) # class: 10, multiclass --> softmax"
   ]
  },
  {
   "cell_type": "code",
   "execution_count": null,
   "metadata": {},
   "outputs": [],
   "source": [
    "# Training the model\n",
    "cnn_model.compile(loss = 'sparse_categorical_crossentropy', optimizer = Adam(learning_rate=0.001), metrics = ['accuracy'])\n",
    "early_stop = tf.keras.callbacks.EarlyStopping(monitor='loss', patience=1, verbose=1)\n",
    "\n",
    "history = cnn_model.fit(X_train, y_train, epochs = 10, batch_size = 50, verbose = 1, validation_data = [X_test, y_test], callbacks=[early_stop])"
   ]
  },
  {
   "cell_type": "code",
   "execution_count": null,
   "metadata": {},
   "outputs": [],
   "source": [
    "# Training the model with image augmentation\n",
    "from keras.preprocessing.image import ImageDataGenerator\n",
    "\n",
    "datagen = ImageDataGenerator(\n",
    "                            rotation_range = 50,\n",
    "                            #width_shift_range = 0.1,\n",
    "                            #horizontal_flip = True,\n",
    "                            #vertical_flip = True,\n",
    "                            #brightness_range=(.9, 1)\n",
    "                            #zoom_range = 0.7,\n",
    "                            #height_shift_range=0\n",
    "                             )\n",
    "\n",
    "datagen.fit(X_train)\n",
    "\n",
    "n = 8\n",
    "fig = plt.figure(figsize = (20,2))\n",
    "\n",
    "# Creating the image flow with the training dataset\n",
    "# Loading the certain number of adjusted images\n",
    "for x_batch in datagen.flow(X_train, batch_size = n):\n",
    "     for i in range(0,n):\n",
    "            ax = fig.add_subplot(1, n, i+1)\n",
    "            ax.imshow(x_batch[i])\n",
    "     fig.suptitle('Augmented images (rotated 90 degrees)')\n",
    "     plt.show()\n",
    "     break;\n",
    "\n",
    "cnn_model.fit_generator(datagen.flow(X_train, y_train, batch_size = 50), epochs = 10) # fit_generator() when using data made by image generator\n",
    "\n",
    "score = cnn_model.evaluate(X_test, y_test)\n",
    "print('Test accuracy', score[1])"
   ]
  },
  {
   "cell_type": "code",
   "execution_count": 59,
   "metadata": {},
   "outputs": [
    {
     "name": "stdout",
     "output_type": "stream",
     "text": [
      "[[ 7  8  9 10]]\n"
     ]
    }
   ],
   "source": [
    "# Evaluating the model\n",
    "evaluation = cnn_model.evaluate(X_test, y_test)\n",
    "\n",
    "predicted_classes = cnn_model.predict(X_test)\n",
    "predicted_classes = np.argmax(predicted_classes, axis=1)\n",
    "\n",
    "L = 7\n",
    "W = 7\n",
    "fig, axes = plt.subplots(L, W, figsize = (12, 12))\n",
    "axes = axes.ravel()\n",
    "\n",
    "for i in np.arange(0, L*W):\n",
    "    axes[i].imshow(X_test[i])\n",
    "    axes[i].set_title('Prediction = {}\\n True = {}'.format(predicted_classes[i], y_test[i]))\n",
    "    axes[i].axis('off')\n",
    "\n",
    "plt.subplots_adjust(wspace = 1)"
   ]
  },
  {
   "cell_type": "code",
   "execution_count": null,
   "metadata": {},
   "outputs": [],
   "source": [
    "# Confusion matrix\n",
    "from sklearn.metrics import confusion_matrix\n",
    "import seaborn as sns\n",
    "\n",
    "cm = confusion_matrix(y_test, predicted_classes)\n",
    "cm\n",
    "plt.figure(figsize = (10, 10))\n",
    "sns.heatmap(cm, annot = True)"
   ]
  }
 ],
 "metadata": {
  "kernelspec": {
   "display_name": "Python 3.9.6 64-bit",
   "language": "python",
   "name": "python3"
  },
  "language_info": {
   "codemirror_mode": {
    "name": "ipython",
    "version": 3
   },
   "file_extension": ".py",
   "mimetype": "text/x-python",
   "name": "python",
   "nbconvert_exporter": "python",
   "pygments_lexer": "ipython3",
   "version": "3.9.6"
  },
  "orig_nbformat": 4,
  "vscode": {
   "interpreter": {
    "hash": "fb0118d73d3d26f88e0d1e3500a56a7fc92e760d5128bb0bdb4d57f6bad5166f"
   }
  }
 },
 "nbformat": 4,
 "nbformat_minor": 2
}
